{
 "cells": [
  {
   "cell_type": "markdown",
   "metadata": {},
   "source": [
    "<span style=\"font-family: Arial; font-weight:bold;font-size:2em;color:#0ab6fa\">FIFA Copa del mundo "
   ]
  },
  {
   "cell_type": "markdown",
   "metadata": {},
   "source": [
    "<span style=\"font-family: Arial; font-weight:bold;font-size:2em;color:#0ab6fa\">Dataset:"
   ]
  },
  {
   "cell_type": "markdown",
   "metadata": {},
   "source": [
    "La Copa Mundial de la FIFA es una competición mundial de fútbol disputada por las distintas naciones del mundo que juegan al fútbol. Se disputa cada cuatro años y es el trofeo más prestigioso e importante en el deporte del fútbol.\n",
    "\n",
    "La Copa Mundial de la FIFA, a menudo llamada simplemente Copa del Mundo, es una competición internacional de fútbol de asociación disputada por los equipos nacionales masculinos senior de los miembros de la Fédération Internationale de Football Association (FIFA), el organismo rector mundial del deporte. El campeonato se ha otorgado cada cuatro años desde el torneo inaugural en 1930, excepto en 1942 y 1946 cuando no se llevó a cabo debido a la Segunda Guerra Mundial.\n",
    "\n",
    "El conjunto de datos de Copas del Mundo muestra toda la información sobre todas las Copas del Mundo en la historia hasta 2014, mientras que el conjunto de datos de Partidos de la Copa del Mundo muestra todos los resultados de los partidos disputados como parte de las copas."
   ]
  },
  {
   "cell_type": "markdown",
   "metadata": {},
   "source": [
    "<span style=\"font-family: Arial; font-weight:bold;font-size:2em;color:#0ab6fa\">Problema:\n",
    "    \n",
    "    \n",
    "Se acaba de crear un nuevo club de fútbol llamado 'Brussels United FC'. Como miembro de este club, se le ha asignado la tarea de realizar análisis de partidos, jugadores y datos de la copa mundial. Aquí debemos analizar los países que más han ganado la copa del mundo con asistencia, goles y partidos por copa según las ciudades. También distribución de goles en casa y fuera. ¿Si jugar en el país de origen es un factor para ganar o no?\n",
    "\n",
    "**Se debe obtener:**\n",
    "\n",
    "\n",
    "* Total de goles marcados por año\n",
    "* Total de partidos jugados y equipos clasificados por año\n",
    "* Partidos con mayor número de asistencia\n",
    "* Ciudades que albergaron los mejores partidos de la copa del mundo\n",
    "* Promedio de asistencia por ciudad\n",
    "* Equipos con más victorias en finales de copas del mundo\n",
    "* Resultados finales de la copa del mundo por nación\n",
    "* Resultados de los partidos por equipos locales y visitantes\n"
   ]
  },
  {
   "cell_type": "markdown",
   "metadata": {},
   "source": [
    "<span style=\"font-family: Arial; font-weight:bold;font-size:2em;color:#0ab6fa\">Datos explicación:-\n",
    "\n",
    "\n",
    "1. Conjunto de datos de partidos de la Copa Mundial\n",
    "\n",
    "Año: El año en que se jugó el partido\n",
    "\n",
    "Fecha y hora: la fecha en la que se jugó el partido junto con un formato de hora de 24 horas\n",
    "\n",
    "Estadio: el estadio en el que se jugó el partido.\n",
    "\n",
    "Estadio: nombre del estadio donde se disputó el partido\n",
    "\n",
    "Ciudad: El nombre de la ciudad, donde se jugó el partido\n",
    "\n",
    "Nombre del equipo local: nombre del país del equipo local\n",
    "\n",
    "Goles del equipo local: total de goles marcados por el equipo local al final del partido\n",
    "\n",
    "Goles del equipo visitante: total de goles marcados por el equipo visitante al final del partido\n",
    "\n",
    "Nombre del equipo visitante: nombre del país del equipo visitante\n",
    "\n",
    "Condiciones de victoria: Condición de victoria especial (si corresponde)\n",
    "\n",
    "Asistencia: Público total presente en el estadio\n",
    "\n",
    "Goles de local en el descanso: Goles marcados por el equipo local hasta el descanso\n",
    "\n",
    "Goles fuera de casa en el descanso: Goles marcados por el equipo visitante hasta el descanso\n",
    "\n",
    "Árbitro: Nombre del primer árbitro\n",
    "\n",
    "Asistente 1: Nombre del primer árbitro asistente (liniero)\n",
    "\n",
    "Asistente 2: Nombre del segundo árbitro asistente (liniero)\n",
    "\n",
    "RoundID: ID único de la Ronda\n",
    "\n",
    "MatchID: ID único de la coincidencia\n",
    "\n",
    "Iniciales del equipo local: iniciales de tres letras del país del equipo local\n",
    "\n",
    "Iniciales del equipo visitante: quedan tres del país del equipo visitante\n",
    "\n",
    "2. Conjunto de datos de jugadores de la Copa Mundial\n",
    "\n",
    "RoundID: ID único de la Ronda\n",
    "\n",
    "MatchID: ID único de la coincidencia\n",
    "\n",
    "Iniciales del equipo: iniciales de tres letras del país del equipo del jugador\n",
    "\n",
    "Nombre del entrenador: nombre del entrenador del jugador\n",
    "\n",
    "Alineación: Indica si el jugador estaba en la alineación inicial o no\n",
    "\n",
    "Número de camiseta: número de camiseta del jugador\n",
    "\n",
    "Nombre del jugador: nombre del jugador\n",
    "\n",
    "Posición: Posición en la que jugó el jugador\n",
    "\n",
    "Evento: Evento importante que involucra al jugador (si lo hay)\n",
    "\n",
    "3. Conjunto de datos de la Copa Mundial\n",
    "\n",
    "Año: Año en que se realizó la copa del mundo\n",
    "\n",
    "País: País donde se llevó a cabo la copa del mundo\n",
    "\n",
    "Ganador: Equipo que ganó la copa del mundo\n",
    "\n",
    "Subcampeones: Equipo que quedó en segundo lugar\n",
    "\n",
    "Tercero: Equipo que llegó tercero\n",
    "\n",
    "Cuarto: Equipo que llegó cuarto\n",
    "\n",
    "GoalsScored: Total de goles marcados en el mundial\n",
    "\n",
    "QualifiedTeams: Número de equipos que se clasificaron para la copa del mundo\n",
    "\n",
    "MatchesPlayed: Total de partidos jugados en la copa del mundo\n",
    "\n",
    "Asistencia: Asistencia total en la copa del mundo."
   ]
  },
  {
   "cell_type": "markdown",
   "metadata": {},
   "source": [
    "<span style=\"font-family: Arial; font-weight:bold;font-size:2em;color:#0ab6fa\">Librerías"
   ]
  },
  {
   "cell_type": "code",
   "execution_count": 2,
   "metadata": {},
   "outputs": [],
   "source": [
    "# Library to suppress warnings \n",
    "import warnings\n",
    "warnings.filterwarnings('ignore')"
   ]
  },
  {
   "cell_type": "code",
   "execution_count": 3,
   "metadata": {},
   "outputs": [],
   "source": [
    "import numpy as np                  # Scientific Computing\n",
    "import pandas as pd                 # Data Analysis\n",
    "import matplotlib.pyplot as plt     # Plotting\n",
    "import seaborn as sns               # Statistical Data Visualization"
   ]
  },
  {
   "cell_type": "markdown",
   "metadata": {},
   "source": [
    "Es convencional referirse a 'pandas' como 'pd'.\n",
    "Cuando agrega el as pd al final de su declaración de importación, su Jupyter Notebook entiende que a partir de este momento, cada vez que escribe pd, en realidad se está refiriendo a la biblioteca pandas."
   ]
  },
  {
   "cell_type": "markdown",
   "metadata": {},
   "source": [
    "<span style=\"font-family: Arial; font-weight:bold;font-size:2em;color:#0ab6fa\">Leyendo datos(WorldCupMatches.csv, WorldCupPlayers.csv, WorldCups.csv) "
   ]
  },
  {
   "cell_type": "code",
   "execution_count": 4,
   "metadata": {},
   "outputs": [],
   "source": [
    "matches  = pd.read_csv(r\"https://raw.githubusercontent.com/FoxuF/DataSetsMachineLearning/main/FifaWorldCup/WorldCupMatches.csv\")\n",
    "players  = pd.read_csv(\"https://raw.githubusercontent.com/FoxuF/DataSetsMachineLearning/main/FifaWorldCup/WorldCupPlayers.csv\")\n",
    "cups     = pd.read_csv(\"https://raw.githubusercontent.com/FoxuF/DataSetsMachineLearning/main/FifaWorldCup/WorldCups.csv\")"
   ]
  },
  {
   "cell_type": "markdown",
   "metadata": {},
   "source": [
    "<span style=\"font-family: Arial; font-weight:bold;font-size:2em;color:#0ab6fa\">Análisis de datos y depuración\n",
    "    \n",
    "    \n",
    "1. Verifique las dimensiones del marco de datos en términos de filas y columnas\n",
    "2. Verifique los tipos de datos. Asegúrese de que sus tipos de datos sean correctos. Referir definiciones de datos para validar\n",
    "3. Si los tipos de datos no se ajustan a la definición comercial, cambie los tipos de datos según el requisito\n",
    "4. Estadísticas resumidas del estudio\n",
    "5. Comprueba los valores que faltan\n",
    "6. Correlación del estudio\n",
    "7. Detectar valores atípicos\n",
    "\n",
    "Nota: es un arte explorar datos y se necesitará más y más práctica para adquirir experiencia en esta área.    \n"
   ]
  },
  {
   "cell_type": "markdown",
   "metadata": {},
   "source": [
    "<span style=\"font-family: Arial; font-weight:bold;font-size:1.5em;color:#0ab6fa\">Entendiendo los datos del problema"
   ]
  },
  {
   "cell_type": "code",
   "execution_count": 8,
   "metadata": {},
   "outputs": [
    {
     "data": {
      "text/html": [
       "<div>\n",
       "<style scoped>\n",
       "    .dataframe tbody tr th:only-of-type {\n",
       "        vertical-align: middle;\n",
       "    }\n",
       "\n",
       "    .dataframe tbody tr th {\n",
       "        vertical-align: top;\n",
       "    }\n",
       "\n",
       "    .dataframe thead th {\n",
       "        text-align: right;\n",
       "    }\n",
       "</style>\n",
       "<table border=\"1\" class=\"dataframe\">\n",
       "  <thead>\n",
       "    <tr style=\"text-align: right;\">\n",
       "      <th></th>\n",
       "      <th>Year</th>\n",
       "      <th>Datetime</th>\n",
       "      <th>Stage</th>\n",
       "      <th>Stadium</th>\n",
       "      <th>City</th>\n",
       "      <th>Home Team Name</th>\n",
       "      <th>Home Team Goals</th>\n",
       "      <th>Away Team Goals</th>\n",
       "      <th>Away Team Name</th>\n",
       "      <th>Win conditions</th>\n",
       "      <th>Attendance</th>\n",
       "      <th>Half-time Home Goals</th>\n",
       "      <th>Half-time Away Goals</th>\n",
       "      <th>Referee</th>\n",
       "      <th>Assistant 1</th>\n",
       "      <th>Assistant 2</th>\n",
       "      <th>RoundID</th>\n",
       "      <th>MatchID</th>\n",
       "      <th>Home Team Initials</th>\n",
       "      <th>Away Team Initials</th>\n",
       "    </tr>\n",
       "  </thead>\n",
       "  <tbody>\n",
       "    <tr>\n",
       "      <th>0</th>\n",
       "      <td>1930.0</td>\n",
       "      <td>13 Jul 1930 - 15:00</td>\n",
       "      <td>Group 1</td>\n",
       "      <td>Pocitos</td>\n",
       "      <td>Montevideo</td>\n",
       "      <td>France</td>\n",
       "      <td>4.0</td>\n",
       "      <td>1.0</td>\n",
       "      <td>Mexico</td>\n",
       "      <td></td>\n",
       "      <td>4444.0</td>\n",
       "      <td>3.0</td>\n",
       "      <td>0.0</td>\n",
       "      <td>LOMBARDI Domingo (URU)</td>\n",
       "      <td>CRISTOPHE Henry (BEL)</td>\n",
       "      <td>REGO Gilberto (BRA)</td>\n",
       "      <td>201.0</td>\n",
       "      <td>1096.0</td>\n",
       "      <td>FRA</td>\n",
       "      <td>MEX</td>\n",
       "    </tr>\n",
       "    <tr>\n",
       "      <th>1</th>\n",
       "      <td>1930.0</td>\n",
       "      <td>13 Jul 1930 - 15:00</td>\n",
       "      <td>Group 4</td>\n",
       "      <td>Parque Central</td>\n",
       "      <td>Montevideo</td>\n",
       "      <td>USA</td>\n",
       "      <td>3.0</td>\n",
       "      <td>0.0</td>\n",
       "      <td>Belgium</td>\n",
       "      <td></td>\n",
       "      <td>18346.0</td>\n",
       "      <td>2.0</td>\n",
       "      <td>0.0</td>\n",
       "      <td>MACIAS Jose (ARG)</td>\n",
       "      <td>MATEUCCI Francisco (URU)</td>\n",
       "      <td>WARNKEN Alberto (CHI)</td>\n",
       "      <td>201.0</td>\n",
       "      <td>1090.0</td>\n",
       "      <td>USA</td>\n",
       "      <td>BEL</td>\n",
       "    </tr>\n",
       "    <tr>\n",
       "      <th>2</th>\n",
       "      <td>1930.0</td>\n",
       "      <td>14 Jul 1930 - 12:45</td>\n",
       "      <td>Group 2</td>\n",
       "      <td>Parque Central</td>\n",
       "      <td>Montevideo</td>\n",
       "      <td>Yugoslavia</td>\n",
       "      <td>2.0</td>\n",
       "      <td>1.0</td>\n",
       "      <td>Brazil</td>\n",
       "      <td></td>\n",
       "      <td>24059.0</td>\n",
       "      <td>2.0</td>\n",
       "      <td>0.0</td>\n",
       "      <td>TEJADA Anibal (URU)</td>\n",
       "      <td>VALLARINO Ricardo (URU)</td>\n",
       "      <td>BALWAY Thomas (FRA)</td>\n",
       "      <td>201.0</td>\n",
       "      <td>1093.0</td>\n",
       "      <td>YUG</td>\n",
       "      <td>BRA</td>\n",
       "    </tr>\n",
       "    <tr>\n",
       "      <th>3</th>\n",
       "      <td>1930.0</td>\n",
       "      <td>14 Jul 1930 - 14:50</td>\n",
       "      <td>Group 3</td>\n",
       "      <td>Pocitos</td>\n",
       "      <td>Montevideo</td>\n",
       "      <td>Romania</td>\n",
       "      <td>3.0</td>\n",
       "      <td>1.0</td>\n",
       "      <td>Peru</td>\n",
       "      <td></td>\n",
       "      <td>2549.0</td>\n",
       "      <td>1.0</td>\n",
       "      <td>0.0</td>\n",
       "      <td>WARNKEN Alberto (CHI)</td>\n",
       "      <td>LANGENUS Jean (BEL)</td>\n",
       "      <td>MATEUCCI Francisco (URU)</td>\n",
       "      <td>201.0</td>\n",
       "      <td>1098.0</td>\n",
       "      <td>ROU</td>\n",
       "      <td>PER</td>\n",
       "    </tr>\n",
       "    <tr>\n",
       "      <th>4</th>\n",
       "      <td>1930.0</td>\n",
       "      <td>15 Jul 1930 - 16:00</td>\n",
       "      <td>Group 1</td>\n",
       "      <td>Parque Central</td>\n",
       "      <td>Montevideo</td>\n",
       "      <td>Argentina</td>\n",
       "      <td>1.0</td>\n",
       "      <td>0.0</td>\n",
       "      <td>France</td>\n",
       "      <td></td>\n",
       "      <td>23409.0</td>\n",
       "      <td>0.0</td>\n",
       "      <td>0.0</td>\n",
       "      <td>REGO Gilberto (BRA)</td>\n",
       "      <td>SAUCEDO Ulises (BOL)</td>\n",
       "      <td>RADULESCU Constantin (ROU)</td>\n",
       "      <td>201.0</td>\n",
       "      <td>1085.0</td>\n",
       "      <td>ARG</td>\n",
       "      <td>FRA</td>\n",
       "    </tr>\n",
       "  </tbody>\n",
       "</table>\n",
       "</div>"
      ],
      "text/plain": [
       "     Year              Datetime    Stage         Stadium         City  \\\n",
       "0  1930.0  13 Jul 1930 - 15:00   Group 1         Pocitos  Montevideo    \n",
       "1  1930.0  13 Jul 1930 - 15:00   Group 4  Parque Central  Montevideo    \n",
       "2  1930.0  14 Jul 1930 - 12:45   Group 2  Parque Central  Montevideo    \n",
       "3  1930.0  14 Jul 1930 - 14:50   Group 3         Pocitos  Montevideo    \n",
       "4  1930.0  15 Jul 1930 - 16:00   Group 1  Parque Central  Montevideo    \n",
       "\n",
       "  Home Team Name  Home Team Goals  Away Team Goals Away Team Name  \\\n",
       "0         France              4.0              1.0         Mexico   \n",
       "1            USA              3.0              0.0        Belgium   \n",
       "2     Yugoslavia              2.0              1.0         Brazil   \n",
       "3        Romania              3.0              1.0           Peru   \n",
       "4      Argentina              1.0              0.0         France   \n",
       "\n",
       "  Win conditions  Attendance  Half-time Home Goals  Half-time Away Goals  \\\n",
       "0                     4444.0                   3.0                   0.0   \n",
       "1                    18346.0                   2.0                   0.0   \n",
       "2                    24059.0                   2.0                   0.0   \n",
       "3                     2549.0                   1.0                   0.0   \n",
       "4                    23409.0                   0.0                   0.0   \n",
       "\n",
       "                  Referee               Assistant 1  \\\n",
       "0  LOMBARDI Domingo (URU)     CRISTOPHE Henry (BEL)   \n",
       "1       MACIAS Jose (ARG)  MATEUCCI Francisco (URU)   \n",
       "2     TEJADA Anibal (URU)   VALLARINO Ricardo (URU)   \n",
       "3   WARNKEN Alberto (CHI)       LANGENUS Jean (BEL)   \n",
       "4     REGO Gilberto (BRA)      SAUCEDO Ulises (BOL)   \n",
       "\n",
       "                  Assistant 2  RoundID  MatchID Home Team Initials  \\\n",
       "0         REGO Gilberto (BRA)    201.0   1096.0                FRA   \n",
       "1       WARNKEN Alberto (CHI)    201.0   1090.0                USA   \n",
       "2         BALWAY Thomas (FRA)    201.0   1093.0                YUG   \n",
       "3    MATEUCCI Francisco (URU)    201.0   1098.0                ROU   \n",
       "4  RADULESCU Constantin (ROU)    201.0   1085.0                ARG   \n",
       "\n",
       "  Away Team Initials  \n",
       "0                MEX  \n",
       "1                BEL  \n",
       "2                BRA  \n",
       "3                PER  \n",
       "4                FRA  "
      ]
     },
     "execution_count": 8,
     "metadata": {},
     "output_type": "execute_result"
    }
   ],
   "source": [
    "matches.head()"
   ]
  },
  {
   "cell_type": "markdown",
   "metadata": {},
   "source": [
    "Dentro de los paréntesis podemos escribir el número de elementos que queremos ver.\n",
    "Si lo dejamos en blanco, mostrará los cinco primeros elementos.\n",
    "Si escribimos 7 dentro de los paréntesis, mostrará los primeros 7 elementos del marco de datos."
   ]
  },
  {
   "cell_type": "code",
   "execution_count": 9,
   "metadata": {},
   "outputs": [
    {
     "data": {
      "text/html": [
       "<div>\n",
       "<style scoped>\n",
       "    .dataframe tbody tr th:only-of-type {\n",
       "        vertical-align: middle;\n",
       "    }\n",
       "\n",
       "    .dataframe tbody tr th {\n",
       "        vertical-align: top;\n",
       "    }\n",
       "\n",
       "    .dataframe thead th {\n",
       "        text-align: right;\n",
       "    }\n",
       "</style>\n",
       "<table border=\"1\" class=\"dataframe\">\n",
       "  <thead>\n",
       "    <tr style=\"text-align: right;\">\n",
       "      <th></th>\n",
       "      <th>RoundID</th>\n",
       "      <th>MatchID</th>\n",
       "      <th>Team Initials</th>\n",
       "      <th>Coach Name</th>\n",
       "      <th>Line-up</th>\n",
       "      <th>Shirt Number</th>\n",
       "      <th>Player Name</th>\n",
       "      <th>Position</th>\n",
       "      <th>Event</th>\n",
       "    </tr>\n",
       "  </thead>\n",
       "  <tbody>\n",
       "    <tr>\n",
       "      <th>0</th>\n",
       "      <td>201</td>\n",
       "      <td>1096</td>\n",
       "      <td>FRA</td>\n",
       "      <td>CAUDRON Raoul (FRA)</td>\n",
       "      <td>S</td>\n",
       "      <td>0</td>\n",
       "      <td>Alex THEPOT</td>\n",
       "      <td>GK</td>\n",
       "      <td>NaN</td>\n",
       "    </tr>\n",
       "    <tr>\n",
       "      <th>1</th>\n",
       "      <td>201</td>\n",
       "      <td>1096</td>\n",
       "      <td>MEX</td>\n",
       "      <td>LUQUE Juan (MEX)</td>\n",
       "      <td>S</td>\n",
       "      <td>0</td>\n",
       "      <td>Oscar BONFIGLIO</td>\n",
       "      <td>GK</td>\n",
       "      <td>NaN</td>\n",
       "    </tr>\n",
       "    <tr>\n",
       "      <th>2</th>\n",
       "      <td>201</td>\n",
       "      <td>1096</td>\n",
       "      <td>FRA</td>\n",
       "      <td>CAUDRON Raoul (FRA)</td>\n",
       "      <td>S</td>\n",
       "      <td>0</td>\n",
       "      <td>Marcel LANGILLER</td>\n",
       "      <td>NaN</td>\n",
       "      <td>G40'</td>\n",
       "    </tr>\n",
       "    <tr>\n",
       "      <th>3</th>\n",
       "      <td>201</td>\n",
       "      <td>1096</td>\n",
       "      <td>MEX</td>\n",
       "      <td>LUQUE Juan (MEX)</td>\n",
       "      <td>S</td>\n",
       "      <td>0</td>\n",
       "      <td>Juan CARRENO</td>\n",
       "      <td>NaN</td>\n",
       "      <td>G70'</td>\n",
       "    </tr>\n",
       "    <tr>\n",
       "      <th>4</th>\n",
       "      <td>201</td>\n",
       "      <td>1096</td>\n",
       "      <td>FRA</td>\n",
       "      <td>CAUDRON Raoul (FRA)</td>\n",
       "      <td>S</td>\n",
       "      <td>0</td>\n",
       "      <td>Ernest LIBERATI</td>\n",
       "      <td>NaN</td>\n",
       "      <td>NaN</td>\n",
       "    </tr>\n",
       "    <tr>\n",
       "      <th>5</th>\n",
       "      <td>201</td>\n",
       "      <td>1096</td>\n",
       "      <td>MEX</td>\n",
       "      <td>LUQUE Juan (MEX)</td>\n",
       "      <td>S</td>\n",
       "      <td>0</td>\n",
       "      <td>Rafael GARZA</td>\n",
       "      <td>C</td>\n",
       "      <td>NaN</td>\n",
       "    </tr>\n",
       "    <tr>\n",
       "      <th>6</th>\n",
       "      <td>201</td>\n",
       "      <td>1096</td>\n",
       "      <td>FRA</td>\n",
       "      <td>CAUDRON Raoul (FRA)</td>\n",
       "      <td>S</td>\n",
       "      <td>0</td>\n",
       "      <td>Andre MASCHINOT</td>\n",
       "      <td>NaN</td>\n",
       "      <td>G43' G87'</td>\n",
       "    </tr>\n",
       "  </tbody>\n",
       "</table>\n",
       "</div>"
      ],
      "text/plain": [
       "   RoundID  MatchID Team Initials           Coach Name Line-up  Shirt Number  \\\n",
       "0      201     1096           FRA  CAUDRON Raoul (FRA)       S             0   \n",
       "1      201     1096           MEX     LUQUE Juan (MEX)       S             0   \n",
       "2      201     1096           FRA  CAUDRON Raoul (FRA)       S             0   \n",
       "3      201     1096           MEX     LUQUE Juan (MEX)       S             0   \n",
       "4      201     1096           FRA  CAUDRON Raoul (FRA)       S             0   \n",
       "5      201     1096           MEX     LUQUE Juan (MEX)       S             0   \n",
       "6      201     1096           FRA  CAUDRON Raoul (FRA)       S             0   \n",
       "\n",
       "        Player Name Position      Event  \n",
       "0       Alex THEPOT       GK        NaN  \n",
       "1   Oscar BONFIGLIO       GK        NaN  \n",
       "2  Marcel LANGILLER      NaN       G40'  \n",
       "3      Juan CARRENO      NaN       G70'  \n",
       "4   Ernest LIBERATI      NaN        NaN  \n",
       "5      Rafael GARZA        C        NaN  \n",
       "6   Andre MASCHINOT      NaN  G43' G87'  "
      ]
     },
     "execution_count": 9,
     "metadata": {},
     "output_type": "execute_result"
    }
   ],
   "source": [
    "players.head(7)"
   ]
  },
  {
   "cell_type": "markdown",
   "metadata": {},
   "source": [
    "Verificando los últimos elementos del DataFrame con el método .tail()\n",
    "La misma regla también se aplica aquí. Si dejamos los paréntesis en blanco, se establecerá como 5, si escribimos 7 dentro de los paréntesis, mostrará los últimos 7 elementos del marco de datos."
   ]
  },
  {
   "cell_type": "code",
   "execution_count": 10,
   "metadata": {},
   "outputs": [
    {
     "data": {
      "text/html": [
       "<div>\n",
       "<style scoped>\n",
       "    .dataframe tbody tr th:only-of-type {\n",
       "        vertical-align: middle;\n",
       "    }\n",
       "\n",
       "    .dataframe tbody tr th {\n",
       "        vertical-align: top;\n",
       "    }\n",
       "\n",
       "    .dataframe thead th {\n",
       "        text-align: right;\n",
       "    }\n",
       "</style>\n",
       "<table border=\"1\" class=\"dataframe\">\n",
       "  <thead>\n",
       "    <tr style=\"text-align: right;\">\n",
       "      <th></th>\n",
       "      <th>Year</th>\n",
       "      <th>Country</th>\n",
       "      <th>Winner</th>\n",
       "      <th>Runners-Up</th>\n",
       "      <th>Third</th>\n",
       "      <th>Fourth</th>\n",
       "      <th>GoalsScored</th>\n",
       "      <th>QualifiedTeams</th>\n",
       "      <th>MatchesPlayed</th>\n",
       "      <th>Attendance</th>\n",
       "    </tr>\n",
       "  </thead>\n",
       "  <tbody>\n",
       "    <tr>\n",
       "      <th>13</th>\n",
       "      <td>1990</td>\n",
       "      <td>Italy</td>\n",
       "      <td>Germany FR</td>\n",
       "      <td>Argentina</td>\n",
       "      <td>Italy</td>\n",
       "      <td>England</td>\n",
       "      <td>115</td>\n",
       "      <td>24</td>\n",
       "      <td>52</td>\n",
       "      <td>2.516.215</td>\n",
       "    </tr>\n",
       "    <tr>\n",
       "      <th>14</th>\n",
       "      <td>1994</td>\n",
       "      <td>USA</td>\n",
       "      <td>Brazil</td>\n",
       "      <td>Italy</td>\n",
       "      <td>Sweden</td>\n",
       "      <td>Bulgaria</td>\n",
       "      <td>141</td>\n",
       "      <td>24</td>\n",
       "      <td>52</td>\n",
       "      <td>3.587.538</td>\n",
       "    </tr>\n",
       "    <tr>\n",
       "      <th>15</th>\n",
       "      <td>1998</td>\n",
       "      <td>France</td>\n",
       "      <td>France</td>\n",
       "      <td>Brazil</td>\n",
       "      <td>Croatia</td>\n",
       "      <td>Netherlands</td>\n",
       "      <td>171</td>\n",
       "      <td>32</td>\n",
       "      <td>64</td>\n",
       "      <td>2.785.100</td>\n",
       "    </tr>\n",
       "    <tr>\n",
       "      <th>16</th>\n",
       "      <td>2002</td>\n",
       "      <td>Korea/Japan</td>\n",
       "      <td>Brazil</td>\n",
       "      <td>Germany</td>\n",
       "      <td>Turkey</td>\n",
       "      <td>Korea Republic</td>\n",
       "      <td>161</td>\n",
       "      <td>32</td>\n",
       "      <td>64</td>\n",
       "      <td>2.705.197</td>\n",
       "    </tr>\n",
       "    <tr>\n",
       "      <th>17</th>\n",
       "      <td>2006</td>\n",
       "      <td>Germany</td>\n",
       "      <td>Italy</td>\n",
       "      <td>France</td>\n",
       "      <td>Germany</td>\n",
       "      <td>Portugal</td>\n",
       "      <td>147</td>\n",
       "      <td>32</td>\n",
       "      <td>64</td>\n",
       "      <td>3.359.439</td>\n",
       "    </tr>\n",
       "    <tr>\n",
       "      <th>18</th>\n",
       "      <td>2010</td>\n",
       "      <td>South Africa</td>\n",
       "      <td>Spain</td>\n",
       "      <td>Netherlands</td>\n",
       "      <td>Germany</td>\n",
       "      <td>Uruguay</td>\n",
       "      <td>145</td>\n",
       "      <td>32</td>\n",
       "      <td>64</td>\n",
       "      <td>3.178.856</td>\n",
       "    </tr>\n",
       "    <tr>\n",
       "      <th>19</th>\n",
       "      <td>2014</td>\n",
       "      <td>Brazil</td>\n",
       "      <td>Germany</td>\n",
       "      <td>Argentina</td>\n",
       "      <td>Netherlands</td>\n",
       "      <td>Brazil</td>\n",
       "      <td>171</td>\n",
       "      <td>32</td>\n",
       "      <td>64</td>\n",
       "      <td>3.386.810</td>\n",
       "    </tr>\n",
       "  </tbody>\n",
       "</table>\n",
       "</div>"
      ],
      "text/plain": [
       "    Year       Country      Winner   Runners-Up        Third          Fourth  \\\n",
       "13  1990         Italy  Germany FR    Argentina        Italy         England   \n",
       "14  1994           USA      Brazil        Italy       Sweden        Bulgaria   \n",
       "15  1998        France      France       Brazil      Croatia     Netherlands   \n",
       "16  2002   Korea/Japan      Brazil      Germany       Turkey  Korea Republic   \n",
       "17  2006       Germany       Italy       France      Germany        Portugal   \n",
       "18  2010  South Africa       Spain  Netherlands      Germany         Uruguay   \n",
       "19  2014        Brazil     Germany    Argentina  Netherlands          Brazil   \n",
       "\n",
       "    GoalsScored  QualifiedTeams  MatchesPlayed Attendance  \n",
       "13          115              24             52  2.516.215  \n",
       "14          141              24             52  3.587.538  \n",
       "15          171              32             64  2.785.100  \n",
       "16          161              32             64  2.705.197  \n",
       "17          147              32             64  3.359.439  \n",
       "18          145              32             64  3.178.856  \n",
       "19          171              32             64  3.386.810  "
      ]
     },
     "execution_count": 10,
     "metadata": {},
     "output_type": "execute_result"
    }
   ],
   "source": [
    "cups.tail(7)"
   ]
  },
  {
   "cell_type": "code",
   "execution_count": 11,
   "metadata": {},
   "outputs": [
    {
     "data": {
      "text/plain": [
       "(20, 10)"
      ]
     },
     "execution_count": 11,
     "metadata": {},
     "output_type": "execute_result"
    }
   ],
   "source": [
    "# mostrando la dimensaión de el frame\n",
    "cups.shape"
   ]
  },
  {
   "cell_type": "markdown",
   "metadata": {},
   "source": [
    "<span style=\"font-family: Arial; font-weight:bold;font-size:1.5em;color:#0ab6fa\">Tipo de los datos"
   ]
  },
  {
   "cell_type": "markdown",
   "metadata": {},
   "source": [
    "Los principales tipos de datos en los marcos de datos de Pandas son object, float, int64, bool y datetime64. Para comprender cada atributo de nuestros datos, siempre es bueno que sepamos el tipo de datos de cada columna.\n"
   ]
  },
  {
   "cell_type": "markdown",
   "metadata": {},
   "source": [
    "##### .info() method\n",
    "*Este método imprime información sobre un DataFrame, incluido el tipo de índice y los tipos de columna, los valores no nulos y el uso de la memoria."
   ]
  },
  {
   "cell_type": "code",
   "execution_count": 12,
   "metadata": {},
   "outputs": [
    {
     "name": "stdout",
     "output_type": "stream",
     "text": [
      "<class 'pandas.core.frame.DataFrame'>\n",
      "RangeIndex: 37784 entries, 0 to 37783\n",
      "Data columns (total 9 columns):\n",
      " #   Column         Non-Null Count  Dtype \n",
      "---  ------         --------------  ----- \n",
      " 0   RoundID        37784 non-null  int64 \n",
      " 1   MatchID        37784 non-null  int64 \n",
      " 2   Team Initials  37784 non-null  object\n",
      " 3   Coach Name     37784 non-null  object\n",
      " 4   Line-up        37784 non-null  object\n",
      " 5   Shirt Number   37784 non-null  int64 \n",
      " 6   Player Name    37784 non-null  object\n",
      " 7   Position       4143 non-null   object\n",
      " 8   Event          9069 non-null   object\n",
      "dtypes: int64(3), object(6)\n",
      "memory usage: 2.6+ MB\n"
     ]
    }
   ],
   "source": [
    "players.info()"
   ]
  },
  {
   "cell_type": "markdown",
   "metadata": {},
   "source": [
    "#### tipo de datos por columna"
   ]
  },
  {
   "cell_type": "code",
   "execution_count": 13,
   "metadata": {},
   "outputs": [
    {
     "data": {
      "text/plain": [
       "Year                    float64\n",
       "Datetime                 object\n",
       "Stage                    object\n",
       "Stadium                  object\n",
       "City                     object\n",
       "Home Team Name           object\n",
       "Home Team Goals         float64\n",
       "Away Team Goals         float64\n",
       "Away Team Name           object\n",
       "Win conditions           object\n",
       "Attendance              float64\n",
       "Half-time Home Goals    float64\n",
       "Half-time Away Goals    float64\n",
       "Referee                  object\n",
       "Assistant 1              object\n",
       "Assistant 2              object\n",
       "RoundID                 float64\n",
       "MatchID                 float64\n",
       "Home Team Initials       object\n",
       "Away Team Initials       object\n",
       "dtype: object"
      ]
     },
     "execution_count": 13,
     "metadata": {},
     "output_type": "execute_result"
    }
   ],
   "source": [
    "matches.dtypes"
   ]
  },
  {
   "cell_type": "markdown",
   "metadata": {},
   "source": [
    "<span style=\"font-family: Arial; font-weight:bold;font-size:1.5em;color:#0ab6fa\">Resumen estadístico "
   ]
  },
  {
   "cell_type": "markdown",
   "metadata": {},
   "source": [
    "##### .describe() method\n",
    "\n",
    "* Este método se usa para obtener un resumen de los valores numéricos en su conjunto de datos.\n",
    "* Calcula la media, desviación estándar, valor mínimo, valor máximo, percentil 1, percentil 2, percentil 3 de las columnas con valores numéricos.\n",
    "* También cuenta el número de variables en el conjunto de datos."
   ]
  },
  {
   "cell_type": "code",
   "execution_count": 14,
   "metadata": {
    "scrolled": true
   },
   "outputs": [
    {
     "data": {
      "text/html": [
       "<div>\n",
       "<style scoped>\n",
       "    .dataframe tbody tr th:only-of-type {\n",
       "        vertical-align: middle;\n",
       "    }\n",
       "\n",
       "    .dataframe tbody tr th {\n",
       "        vertical-align: top;\n",
       "    }\n",
       "\n",
       "    .dataframe thead th {\n",
       "        text-align: right;\n",
       "    }\n",
       "</style>\n",
       "<table border=\"1\" class=\"dataframe\">\n",
       "  <thead>\n",
       "    <tr style=\"text-align: right;\">\n",
       "      <th></th>\n",
       "      <th>RoundID</th>\n",
       "      <th>MatchID</th>\n",
       "      <th>Shirt Number</th>\n",
       "    </tr>\n",
       "  </thead>\n",
       "  <tbody>\n",
       "    <tr>\n",
       "      <th>count</th>\n",
       "      <td>3.778400e+04</td>\n",
       "      <td>3.778400e+04</td>\n",
       "      <td>37784.000000</td>\n",
       "    </tr>\n",
       "    <tr>\n",
       "      <th>mean</th>\n",
       "      <td>1.105647e+07</td>\n",
       "      <td>6.362233e+07</td>\n",
       "      <td>10.726022</td>\n",
       "    </tr>\n",
       "    <tr>\n",
       "      <th>std</th>\n",
       "      <td>2.770144e+07</td>\n",
       "      <td>1.123916e+08</td>\n",
       "      <td>6.960138</td>\n",
       "    </tr>\n",
       "    <tr>\n",
       "      <th>min</th>\n",
       "      <td>2.010000e+02</td>\n",
       "      <td>2.500000e+01</td>\n",
       "      <td>0.000000</td>\n",
       "    </tr>\n",
       "    <tr>\n",
       "      <th>25%</th>\n",
       "      <td>2.630000e+02</td>\n",
       "      <td>1.199000e+03</td>\n",
       "      <td>5.000000</td>\n",
       "    </tr>\n",
       "    <tr>\n",
       "      <th>50%</th>\n",
       "      <td>3.370000e+02</td>\n",
       "      <td>2.216000e+03</td>\n",
       "      <td>11.000000</td>\n",
       "    </tr>\n",
       "    <tr>\n",
       "      <th>75%</th>\n",
       "      <td>2.559310e+05</td>\n",
       "      <td>9.741000e+07</td>\n",
       "      <td>17.000000</td>\n",
       "    </tr>\n",
       "    <tr>\n",
       "      <th>max</th>\n",
       "      <td>9.741060e+07</td>\n",
       "      <td>3.001865e+08</td>\n",
       "      <td>23.000000</td>\n",
       "    </tr>\n",
       "  </tbody>\n",
       "</table>\n",
       "</div>"
      ],
      "text/plain": [
       "            RoundID       MatchID  Shirt Number\n",
       "count  3.778400e+04  3.778400e+04  37784.000000\n",
       "mean   1.105647e+07  6.362233e+07     10.726022\n",
       "std    2.770144e+07  1.123916e+08      6.960138\n",
       "min    2.010000e+02  2.500000e+01      0.000000\n",
       "25%    2.630000e+02  1.199000e+03      5.000000\n",
       "50%    3.370000e+02  2.216000e+03     11.000000\n",
       "75%    2.559310e+05  9.741000e+07     17.000000\n",
       "max    9.741060e+07  3.001865e+08     23.000000"
      ]
     },
     "execution_count": 14,
     "metadata": {},
     "output_type": "execute_result"
    }
   ],
   "source": [
    "players.describe()"
   ]
  },
  {
   "cell_type": "code",
   "execution_count": 15,
   "metadata": {},
   "outputs": [
    {
     "data": {
      "text/html": [
       "<div>\n",
       "<style scoped>\n",
       "    .dataframe tbody tr th:only-of-type {\n",
       "        vertical-align: middle;\n",
       "    }\n",
       "\n",
       "    .dataframe tbody tr th {\n",
       "        vertical-align: top;\n",
       "    }\n",
       "\n",
       "    .dataframe thead th {\n",
       "        text-align: right;\n",
       "    }\n",
       "</style>\n",
       "<table border=\"1\" class=\"dataframe\">\n",
       "  <thead>\n",
       "    <tr style=\"text-align: right;\">\n",
       "      <th></th>\n",
       "      <th>Year</th>\n",
       "      <th>Home Team Goals</th>\n",
       "      <th>Away Team Goals</th>\n",
       "      <th>Attendance</th>\n",
       "      <th>Half-time Home Goals</th>\n",
       "      <th>Half-time Away Goals</th>\n",
       "      <th>RoundID</th>\n",
       "      <th>MatchID</th>\n",
       "    </tr>\n",
       "  </thead>\n",
       "  <tbody>\n",
       "    <tr>\n",
       "      <th>count</th>\n",
       "      <td>852.000000</td>\n",
       "      <td>852.000000</td>\n",
       "      <td>852.000000</td>\n",
       "      <td>850.000000</td>\n",
       "      <td>852.000000</td>\n",
       "      <td>852.000000</td>\n",
       "      <td>8.520000e+02</td>\n",
       "      <td>8.520000e+02</td>\n",
       "    </tr>\n",
       "    <tr>\n",
       "      <th>mean</th>\n",
       "      <td>1985.089202</td>\n",
       "      <td>1.811033</td>\n",
       "      <td>1.022300</td>\n",
       "      <td>45164.800000</td>\n",
       "      <td>0.708920</td>\n",
       "      <td>0.428404</td>\n",
       "      <td>1.066177e+07</td>\n",
       "      <td>6.134687e+07</td>\n",
       "    </tr>\n",
       "    <tr>\n",
       "      <th>std</th>\n",
       "      <td>22.448825</td>\n",
       "      <td>1.610255</td>\n",
       "      <td>1.087573</td>\n",
       "      <td>23485.249247</td>\n",
       "      <td>0.937414</td>\n",
       "      <td>0.691252</td>\n",
       "      <td>2.729613e+07</td>\n",
       "      <td>1.110572e+08</td>\n",
       "    </tr>\n",
       "    <tr>\n",
       "      <th>min</th>\n",
       "      <td>1930.000000</td>\n",
       "      <td>0.000000</td>\n",
       "      <td>0.000000</td>\n",
       "      <td>2000.000000</td>\n",
       "      <td>0.000000</td>\n",
       "      <td>0.000000</td>\n",
       "      <td>2.010000e+02</td>\n",
       "      <td>2.500000e+01</td>\n",
       "    </tr>\n",
       "    <tr>\n",
       "      <th>25%</th>\n",
       "      <td>1970.000000</td>\n",
       "      <td>1.000000</td>\n",
       "      <td>0.000000</td>\n",
       "      <td>30000.000000</td>\n",
       "      <td>0.000000</td>\n",
       "      <td>0.000000</td>\n",
       "      <td>2.620000e+02</td>\n",
       "      <td>1.188750e+03</td>\n",
       "    </tr>\n",
       "    <tr>\n",
       "      <th>50%</th>\n",
       "      <td>1990.000000</td>\n",
       "      <td>2.000000</td>\n",
       "      <td>1.000000</td>\n",
       "      <td>41579.500000</td>\n",
       "      <td>0.000000</td>\n",
       "      <td>0.000000</td>\n",
       "      <td>3.370000e+02</td>\n",
       "      <td>2.191000e+03</td>\n",
       "    </tr>\n",
       "    <tr>\n",
       "      <th>75%</th>\n",
       "      <td>2002.000000</td>\n",
       "      <td>3.000000</td>\n",
       "      <td>2.000000</td>\n",
       "      <td>61374.500000</td>\n",
       "      <td>1.000000</td>\n",
       "      <td>1.000000</td>\n",
       "      <td>2.497220e+05</td>\n",
       "      <td>4.395006e+07</td>\n",
       "    </tr>\n",
       "    <tr>\n",
       "      <th>max</th>\n",
       "      <td>2014.000000</td>\n",
       "      <td>10.000000</td>\n",
       "      <td>7.000000</td>\n",
       "      <td>173850.000000</td>\n",
       "      <td>6.000000</td>\n",
       "      <td>5.000000</td>\n",
       "      <td>9.741060e+07</td>\n",
       "      <td>3.001865e+08</td>\n",
       "    </tr>\n",
       "  </tbody>\n",
       "</table>\n",
       "</div>"
      ],
      "text/plain": [
       "              Year  Home Team Goals  Away Team Goals     Attendance  \\\n",
       "count   852.000000       852.000000       852.000000     850.000000   \n",
       "mean   1985.089202         1.811033         1.022300   45164.800000   \n",
       "std      22.448825         1.610255         1.087573   23485.249247   \n",
       "min    1930.000000         0.000000         0.000000    2000.000000   \n",
       "25%    1970.000000         1.000000         0.000000   30000.000000   \n",
       "50%    1990.000000         2.000000         1.000000   41579.500000   \n",
       "75%    2002.000000         3.000000         2.000000   61374.500000   \n",
       "max    2014.000000        10.000000         7.000000  173850.000000   \n",
       "\n",
       "       Half-time Home Goals  Half-time Away Goals       RoundID       MatchID  \n",
       "count            852.000000            852.000000  8.520000e+02  8.520000e+02  \n",
       "mean               0.708920              0.428404  1.066177e+07  6.134687e+07  \n",
       "std                0.937414              0.691252  2.729613e+07  1.110572e+08  \n",
       "min                0.000000              0.000000  2.010000e+02  2.500000e+01  \n",
       "25%                0.000000              0.000000  2.620000e+02  1.188750e+03  \n",
       "50%                0.000000              0.000000  3.370000e+02  2.191000e+03  \n",
       "75%                1.000000              1.000000  2.497220e+05  4.395006e+07  \n",
       "max                6.000000              5.000000  9.741060e+07  3.001865e+08  "
      ]
     },
     "execution_count": 15,
     "metadata": {},
     "output_type": "execute_result"
    }
   ],
   "source": [
    "matches.describe()"
   ]
  },
  {
   "cell_type": "code",
   "execution_count": 16,
   "metadata": {},
   "outputs": [
    {
     "data": {
      "text/html": [
       "<div>\n",
       "<style scoped>\n",
       "    .dataframe tbody tr th:only-of-type {\n",
       "        vertical-align: middle;\n",
       "    }\n",
       "\n",
       "    .dataframe tbody tr th {\n",
       "        vertical-align: top;\n",
       "    }\n",
       "\n",
       "    .dataframe thead th {\n",
       "        text-align: right;\n",
       "    }\n",
       "</style>\n",
       "<table border=\"1\" class=\"dataframe\">\n",
       "  <thead>\n",
       "    <tr style=\"text-align: right;\">\n",
       "      <th></th>\n",
       "      <th>Year</th>\n",
       "      <th>GoalsScored</th>\n",
       "      <th>QualifiedTeams</th>\n",
       "      <th>MatchesPlayed</th>\n",
       "    </tr>\n",
       "  </thead>\n",
       "  <tbody>\n",
       "    <tr>\n",
       "      <th>count</th>\n",
       "      <td>20.000000</td>\n",
       "      <td>20.000000</td>\n",
       "      <td>20.000000</td>\n",
       "      <td>20.000000</td>\n",
       "    </tr>\n",
       "    <tr>\n",
       "      <th>mean</th>\n",
       "      <td>1974.800000</td>\n",
       "      <td>118.950000</td>\n",
       "      <td>21.250000</td>\n",
       "      <td>41.800000</td>\n",
       "    </tr>\n",
       "    <tr>\n",
       "      <th>std</th>\n",
       "      <td>25.582889</td>\n",
       "      <td>32.972836</td>\n",
       "      <td>7.268352</td>\n",
       "      <td>17.218717</td>\n",
       "    </tr>\n",
       "    <tr>\n",
       "      <th>min</th>\n",
       "      <td>1930.000000</td>\n",
       "      <td>70.000000</td>\n",
       "      <td>13.000000</td>\n",
       "      <td>17.000000</td>\n",
       "    </tr>\n",
       "    <tr>\n",
       "      <th>25%</th>\n",
       "      <td>1957.000000</td>\n",
       "      <td>89.000000</td>\n",
       "      <td>16.000000</td>\n",
       "      <td>30.500000</td>\n",
       "    </tr>\n",
       "    <tr>\n",
       "      <th>50%</th>\n",
       "      <td>1976.000000</td>\n",
       "      <td>120.500000</td>\n",
       "      <td>16.000000</td>\n",
       "      <td>38.000000</td>\n",
       "    </tr>\n",
       "    <tr>\n",
       "      <th>75%</th>\n",
       "      <td>1995.000000</td>\n",
       "      <td>145.250000</td>\n",
       "      <td>26.000000</td>\n",
       "      <td>55.000000</td>\n",
       "    </tr>\n",
       "    <tr>\n",
       "      <th>max</th>\n",
       "      <td>2014.000000</td>\n",
       "      <td>171.000000</td>\n",
       "      <td>32.000000</td>\n",
       "      <td>64.000000</td>\n",
       "    </tr>\n",
       "  </tbody>\n",
       "</table>\n",
       "</div>"
      ],
      "text/plain": [
       "              Year  GoalsScored  QualifiedTeams  MatchesPlayed\n",
       "count    20.000000    20.000000       20.000000      20.000000\n",
       "mean   1974.800000   118.950000       21.250000      41.800000\n",
       "std      25.582889    32.972836        7.268352      17.218717\n",
       "min    1930.000000    70.000000       13.000000      17.000000\n",
       "25%    1957.000000    89.000000       16.000000      30.500000\n",
       "50%    1976.000000   120.500000       16.000000      38.000000\n",
       "75%    1995.000000   145.250000       26.000000      55.000000\n",
       "max    2014.000000   171.000000       32.000000      64.000000"
      ]
     },
     "execution_count": 16,
     "metadata": {},
     "output_type": "execute_result"
    }
   ],
   "source": [
    "cups.describe()"
   ]
  },
  {
   "cell_type": "code",
   "execution_count": 17,
   "metadata": {},
   "outputs": [
    {
     "data": {
      "text/html": [
       "<div>\n",
       "<style scoped>\n",
       "    .dataframe tbody tr th:only-of-type {\n",
       "        vertical-align: middle;\n",
       "    }\n",
       "\n",
       "    .dataframe tbody tr th {\n",
       "        vertical-align: top;\n",
       "    }\n",
       "\n",
       "    .dataframe thead th {\n",
       "        text-align: right;\n",
       "    }\n",
       "</style>\n",
       "<table border=\"1\" class=\"dataframe\">\n",
       "  <thead>\n",
       "    <tr style=\"text-align: right;\">\n",
       "      <th></th>\n",
       "      <th>Country</th>\n",
       "      <th>Winner</th>\n",
       "      <th>Runners-Up</th>\n",
       "      <th>Third</th>\n",
       "      <th>Fourth</th>\n",
       "      <th>Attendance</th>\n",
       "    </tr>\n",
       "  </thead>\n",
       "  <tbody>\n",
       "    <tr>\n",
       "      <th>count</th>\n",
       "      <td>20</td>\n",
       "      <td>20</td>\n",
       "      <td>20</td>\n",
       "      <td>20</td>\n",
       "      <td>20</td>\n",
       "      <td>20</td>\n",
       "    </tr>\n",
       "    <tr>\n",
       "      <th>unique</th>\n",
       "      <td>15</td>\n",
       "      <td>9</td>\n",
       "      <td>10</td>\n",
       "      <td>14</td>\n",
       "      <td>16</td>\n",
       "      <td>20</td>\n",
       "    </tr>\n",
       "    <tr>\n",
       "      <th>top</th>\n",
       "      <td>Italy</td>\n",
       "      <td>Brazil</td>\n",
       "      <td>Argentina</td>\n",
       "      <td>Germany</td>\n",
       "      <td>Uruguay</td>\n",
       "      <td>590.549</td>\n",
       "    </tr>\n",
       "    <tr>\n",
       "      <th>freq</th>\n",
       "      <td>2</td>\n",
       "      <td>5</td>\n",
       "      <td>3</td>\n",
       "      <td>3</td>\n",
       "      <td>3</td>\n",
       "      <td>1</td>\n",
       "    </tr>\n",
       "  </tbody>\n",
       "</table>\n",
       "</div>"
      ],
      "text/plain": [
       "       Country  Winner Runners-Up    Third   Fourth Attendance\n",
       "count       20      20         20       20       20         20\n",
       "unique      15       9         10       14       16         20\n",
       "top      Italy  Brazil  Argentina  Germany  Uruguay    590.549\n",
       "freq         2       5          3        3        3          1"
      ]
     },
     "execution_count": 17,
     "metadata": {},
     "output_type": "execute_result"
    }
   ],
   "source": [
    "# describe the categorical data\n",
    "cups.describe(include=object)\n",
    "# Nota: si no pasamos include=object a describe(), devolvería estadísticas para la variable numérica"
   ]
  },
  {
   "cell_type": "markdown",
   "metadata": {},
   "source": [
    "<span style=\"font-family: Arial; font-weight:bold;font-size:1.5em;color:#0ab6fa\">Valores faltantes\n",
    "    \n",
    "\n",
    "**Si nos encontramos con datos faltantes, qué podemos hacer:**\n",
    "\n",
    "* dejarlo como está\n",
    "* eliminarlos con dropna() Ver documento word\n",
    "* llenar el valor faltante con fillna() Ver documento word\n",
    "* complete los valores faltantes con estadísticas de prueba como la media\n",
    "\n",
    "\n",
    "* Uno de los problemas más comunes en la ciencia de datos son los valores faltantes.\n",
    "* Para detectarlos, existe un hermoso método que se llama isnull(). Con este método, podemos obtener una serie booleana (Verdadero o Falso). Ver archivo word"
   ]
  },
  {
   "cell_type": "code",
   "execution_count": 18,
   "metadata": {},
   "outputs": [
    {
     "data": {
      "text/plain": [
       "Year              0\n",
       "Country           0\n",
       "Winner            0\n",
       "Runners-Up        0\n",
       "Third             0\n",
       "Fourth            0\n",
       "GoalsScored       0\n",
       "QualifiedTeams    0\n",
       "MatchesPlayed     0\n",
       "Attendance        0\n",
       "dtype: int64"
      ]
     },
     "execution_count": 18,
     "metadata": {},
     "output_type": "execute_result"
    }
   ],
   "source": [
    "cups.isnull().sum()"
   ]
  },
  {
   "cell_type": "markdown",
   "metadata": {},
   "source": [
    "* No tenemos valores nulos"
   ]
  },
  {
   "cell_type": "code",
   "execution_count": 19,
   "metadata": {
    "scrolled": false
   },
   "outputs": [
    {
     "data": {
      "text/plain": [
       "RoundID              0\n",
       "MatchID              0\n",
       "Team Initials        0\n",
       "Coach Name           0\n",
       "Line-up              0\n",
       "Shirt Number         0\n",
       "Player Name          0\n",
       "Position         33641\n",
       "Event            28715\n",
       "dtype: int64"
      ]
     },
     "execution_count": 19,
     "metadata": {},
     "output_type": "execute_result"
    }
   ],
   "source": [
    "players.isnull().sum()"
   ]
  },
  {
   "cell_type": "code",
   "execution_count": 20,
   "metadata": {},
   "outputs": [
    {
     "name": "stdout",
     "output_type": "stream",
     "text": [
      "Position         89.04\n",
      "Event            76.00\n",
      "RoundID           0.00\n",
      "MatchID           0.00\n",
      "Team Initials     0.00\n",
      "Coach Name        0.00\n",
      "Line-up           0.00\n",
      "Shirt Number      0.00\n",
      "Player Name       0.00\n",
      "dtype: float64\n"
     ]
    }
   ],
   "source": [
    "# Calculando el procentaje de datos nulos\n",
    "\n",
    "def missing(players):\n",
    "    print (round((players.isnull().sum() * 100/ len(players)),2).sort_values(ascending=False))\n",
    "\n",
    "missing(players)\n",
    "\n",
    "# Ver documentos word de sort_values y relativos a definición de funciones y tipos de argumentos"
   ]
  },
  {
   "cell_type": "markdown",
   "metadata": {},
   "source": [
    "<span style=\"font-family: Arial; font-weight:bold;font-size:1.5em;color:#0ab6fa\">Asignación obligatoria para \"Position\" y \"Event\""
   ]
  },
  {
   "cell_type": "markdown",
   "metadata": {},
   "source": [
    "* La asignación obligatoria de moda significa reemplazar los valores faltantes por la moda, o el valor de la categoría más frecuente.\n",
    "* Los resultados de esta imputación se verán así:"
   ]
  },
  {
   "cell_type": "code",
   "execution_count": 21,
   "metadata": {
    "scrolled": false
   },
   "outputs": [
    {
     "data": {
      "text/plain": [
       "GK     2441\n",
       "C      1510\n",
       "GKC     192\n",
       "Name: Position, dtype: int64"
      ]
     },
     "execution_count": 21,
     "metadata": {},
     "output_type": "execute_result"
    }
   ],
   "source": [
    "players[\"Position\"].value_counts()\n",
    "\n",
    "# Ver documento word de value_counts"
   ]
  },
  {
   "cell_type": "markdown",
   "metadata": {},
   "source": [
    "* La columna  Posición y Evento tienen celdas vacías que estamos reemplazando con NaN"
   ]
  },
  {
   "cell_type": "code",
   "execution_count": 22,
   "metadata": {
    "scrolled": true
   },
   "outputs": [
    {
     "data": {
      "text/plain": [
       "0     GK\n",
       "1     GK\n",
       "2    NaN\n",
       "Name: Position, dtype: object"
      ]
     },
     "execution_count": 22,
     "metadata": {},
     "output_type": "execute_result"
    }
   ],
   "source": [
    "players[\"Position\"].replace(' ', np.NaN).head(3)\n",
    "# Ver documento word de eliminación de valores"
   ]
  },
  {
   "cell_type": "code",
   "execution_count": 23,
   "metadata": {},
   "outputs": [],
   "source": [
    "df = players['Position'].value_counts().index[0]\n",
    "#players['Position'].value_counts()"
   ]
  },
  {
   "cell_type": "code",
   "execution_count": 24,
   "metadata": {},
   "outputs": [
    {
     "data": {
      "text/plain": [
       "0    GK\n",
       "1    GK\n",
       "2    GK\n",
       "3    GK\n",
       "4    GK\n",
       "Name: Position, dtype: object"
      ]
     },
     "execution_count": 24,
     "metadata": {},
     "output_type": "execute_result"
    }
   ],
   "source": [
    "players['Position'].fillna(df,inplace=True)\n",
    "players[\"Position\"].head()"
   ]
  },
  {
   "cell_type": "code",
   "execution_count": 25,
   "metadata": {},
   "outputs": [
    {
     "data": {
      "text/plain": [
       "0     NaN\n",
       "1     NaN\n",
       "2    G40'\n",
       "Name: Event, dtype: object"
      ]
     },
     "execution_count": 25,
     "metadata": {},
     "output_type": "execute_result"
    }
   ],
   "source": [
    "players[\"Event\"].replace(' ', np.NaN).head(3)"
   ]
  },
  {
   "cell_type": "code",
   "execution_count": 26,
   "metadata": {
    "scrolled": true
   },
   "outputs": [
    {
     "data": {
      "text/plain": [
       "0    OH46'\n",
       "1    OH46'\n",
       "Name: Event, dtype: object"
      ]
     },
     "execution_count": 26,
     "metadata": {},
     "output_type": "execute_result"
    }
   ],
   "source": [
    "df1 = players['Event'].value_counts().index[0]\n",
    "players['Event'].fillna(df1,inplace=True)\n",
    "players[\"Event\"].head(2)"
   ]
  },
  {
   "cell_type": "code",
   "execution_count": 27,
   "metadata": {
    "scrolled": true
   },
   "outputs": [
    {
     "name": "stdout",
     "output_type": "stream",
     "text": [
      "RoundID          0.0\n",
      "MatchID          0.0\n",
      "Team Initials    0.0\n",
      "Coach Name       0.0\n",
      "Line-up          0.0\n",
      "Shirt Number     0.0\n",
      "Player Name      0.0\n",
      "Position         0.0\n",
      "Event            0.0\n",
      "dtype: float64\n"
     ]
    }
   ],
   "source": [
    "def missing(players):\n",
    "    print (round((players.isnull().sum() * 100/ len(players)),2).sort_values(ascending=False))\n",
    "\n",
    "missing(players)"
   ]
  },
  {
   "cell_type": "markdown",
   "metadata": {},
   "source": [
    "<span style=\"font-family: Arial; font-weight:bold;font-size:1.5em;color:#0ab6fa\">Mean y Median para sustitución"
   ]
  },
  {
   "cell_type": "markdown",
   "metadata": {},
   "source": [
    "**Para variables numéricas usamos media/mediana**\n",
    "\n",
    "* La media como medida se ve muy afectada por valores atípicos o si la distribución de los datos o la columna no se distribuye normalmente. Por lo tanto, es aconsejable verificar primero la distribución de la columna antes de decidir si usar una sustitución media o una sustitución mediana.\n",
    "\n",
    "* La sustitución media funciona mejor si la distribución se distribuye normalmente o tiene una distribución gaussiana, mientras que la sustitución mediana es preferible para una distribución sesgada (ya sea a la derecha o a la izquierda)"
   ]
  },
  {
   "cell_type": "markdown",
   "metadata": {},
   "source": [
    "##### A veces es aconsejable descartar las columnas cuando los valores NULL son significativamente mayores que los otros valores presentes."
   ]
  },
  {
   "cell_type": "markdown",
   "metadata": {},
   "source": [
    "<span style=\"font-family: Arial; font-weight:bold;font-size:1.5em;color:#0ab6fa\">Correlacíon"
   ]
  },
  {
   "cell_type": "markdown",
   "metadata": {},
   "source": [
    "* La correlación es una estadística que mide el grado en que dos variables se relacionan entre sí. Una correlación positiva indica la medida en que esas variables aumentan o disminuyen en paralelo; una correlación negativa indica hasta qué punto una variable aumenta a medida que la otra disminuye. \n",
    "* La correlación entre múltiples variables se puede representar en forma de matriz. Esto nos permite ver qué pares tienen las correlaciones más altas."
   ]
  },
  {
   "cell_type": "markdown",
   "metadata": {},
   "source": [
    "* Una nota importante aquí; La correlación se puede crear entre valores numéricos, por lo que las columnas que vienen con valores de cadena no se incluirán."
   ]
  },
  {
   "cell_type": "code",
   "execution_count": 28,
   "metadata": {},
   "outputs": [
    {
     "data": {
      "text/html": [
       "<div>\n",
       "<style scoped>\n",
       "    .dataframe tbody tr th:only-of-type {\n",
       "        vertical-align: middle;\n",
       "    }\n",
       "\n",
       "    .dataframe tbody tr th {\n",
       "        vertical-align: top;\n",
       "    }\n",
       "\n",
       "    .dataframe thead th {\n",
       "        text-align: right;\n",
       "    }\n",
       "</style>\n",
       "<table border=\"1\" class=\"dataframe\">\n",
       "  <thead>\n",
       "    <tr style=\"text-align: right;\">\n",
       "      <th></th>\n",
       "      <th>Year</th>\n",
       "      <th>GoalsScored</th>\n",
       "      <th>QualifiedTeams</th>\n",
       "      <th>MatchesPlayed</th>\n",
       "    </tr>\n",
       "  </thead>\n",
       "  <tbody>\n",
       "    <tr>\n",
       "      <th>Year</th>\n",
       "      <td>1.000000</td>\n",
       "      <td>0.829886</td>\n",
       "      <td>0.895565</td>\n",
       "      <td>0.972473</td>\n",
       "    </tr>\n",
       "    <tr>\n",
       "      <th>GoalsScored</th>\n",
       "      <td>0.829886</td>\n",
       "      <td>1.000000</td>\n",
       "      <td>0.866201</td>\n",
       "      <td>0.876201</td>\n",
       "    </tr>\n",
       "    <tr>\n",
       "      <th>QualifiedTeams</th>\n",
       "      <td>0.895565</td>\n",
       "      <td>0.866201</td>\n",
       "      <td>1.000000</td>\n",
       "      <td>0.949164</td>\n",
       "    </tr>\n",
       "    <tr>\n",
       "      <th>MatchesPlayed</th>\n",
       "      <td>0.972473</td>\n",
       "      <td>0.876201</td>\n",
       "      <td>0.949164</td>\n",
       "      <td>1.000000</td>\n",
       "    </tr>\n",
       "  </tbody>\n",
       "</table>\n",
       "</div>"
      ],
      "text/plain": [
       "                    Year  GoalsScored  QualifiedTeams  MatchesPlayed\n",
       "Year            1.000000     0.829886        0.895565       0.972473\n",
       "GoalsScored     0.829886     1.000000        0.866201       0.876201\n",
       "QualifiedTeams  0.895565     0.866201        1.000000       0.949164\n",
       "MatchesPlayed   0.972473     0.876201        0.949164       1.000000"
      ]
     },
     "execution_count": 28,
     "metadata": {},
     "output_type": "execute_result"
    }
   ],
   "source": [
    "cups.corr()"
   ]
  },
  {
   "cell_type": "code",
   "execution_count": 29,
   "metadata": {},
   "outputs": [
    {
     "data": {
      "image/png": "[encoded data removed]",
      "text/plain": [
       "<Figure size 1000x1000 with 2 Axes>"
      ]
     },
     "metadata": {},
     "output_type": "display_data"
    }
   ],
   "source": [
    "# Visualizando la Matriz de correlación\n",
    "f,ax = plt.subplots(figsize=(10, 10))\n",
    "\n",
    "# trazando el mapa de calor\n",
    "# corr: dar la matriz de correlación\n",
    "# cmap: código de color utilizado para trazar\n",
    "# vmax: da el rango máximo de valores para el gráfico\n",
    "# vmin: da un rango mínimo de valores para el gráfico\n",
    "# annot: imprime los valores de correlación en el gráfico\n",
    "# annot_kws={\"size\": 12}): Establece el tamaño de fuente de la anotación\n",
    "\n",
    "sns.heatmap(cups.corr(), annot=True, linewidths=.5, fmt= '.4f',ax=ax)\n",
    "# Colocando un título\n",
    "plt.title('Correlation between valores de la tabla')\n",
    "plt.show()"
   ]
  },
  {
   "cell_type": "markdown",
   "metadata": {},
   "source": [
    "Nota: Si bien la correlación entre dos eventos independientes es cero, es posible que dos eventos con correlaciones cero no sean independientes."
   ]
  },
  {
   "cell_type": "markdown",
   "metadata": {},
   "source": [
    "* Como podemos ver en el mapa de calor de la correlación, la mayoría de nuestras variables, como MatchesPlayed y Year, están fuertemente correlacionadas."
   ]
  },
  {
   "cell_type": "markdown",
   "metadata": {},
   "source": [
    "<span style=\"font-family: Arial; font-weight:bold;font-size:1.5em;color:#0ab6fa\">Descubrir valores atípicos"
   ]
  },
  {
   "cell_type": "markdown",
   "metadata": {},
   "source": [
    "**Importancia de detectar un valor atípico**\n",
    "\n",
    "* Una de las tareas más importantes de grandes conjuntos de datos es encontrar un valor atípico, que se define como una muestra o evento que es muy inconsistente con el resto del conjunto de datos. El punto o valor de observación estaría distante de las otras observaciones en el conjunto de datos."
   ]
  },
  {
   "cell_type": "markdown",
   "metadata": {},
   "source": [
    "**valores atípicos:** el valor que es considerablemente más alto o más bajo del resto de los datos\n",
    "\n",
    "Digamos que el valor al 75% es Q3 y el valor al 25% es Q1.\n",
    "Los valores atípicos son más pequeños que Q1 - 1,5 (Q3-Q1) y más grandes que Q3 + 1,5 (Q3-Q1). (Q3-Q1) = RIQ\n",
    "\n",
    "Usaremos el método describe(). El método incluye:\n",
    "\n",
    "recuento: número de entradas\n",
    "\n",
    "media: promedio de entradas\n",
    "\n",
    "estándar: desviación estándar\n",
    "\n",
    "min: entrada mínima\n",
    "\n",
    "25%: primer cuantil\n",
    "\n",
    "50%: mediana o segundo cuantil\n",
    "\n",
    "75%: tercer cuantil\n",
    "\n",
    "max: entrada máxima\n",
    "\n",
    "**¿Qué es el cuantil?**\n",
    "1,4,5,6,8,9,11,12,13,14,15,16,17\n",
    "\n",
    "La mediana es el número que está en medio de la secuencia. En este caso serían 11.\n",
    "\n",
    "El cuartil inferior es la mediana entre el número más pequeño y la mediana, es decir, entre 1 y 11, que es 6.\n",
    "\n",
    "El cuartil superior, encuentras la mediana entre la mediana y el número más grande, es decir, entre 11 y 17, que será 14 * según la pregunta anterior.\n",
    "\n",
    "Si la secuencia tiene un número par de elementos, entonces la mediana es igual a la media de los números al lado de la mediana.\n",
    "\n",
    "es decir, supongamos que 1,4,6,8 es nuestra secuencia. La mediana debe ser 2,5 entre 4 y 6. Entonces, la mediana de esta secuencia es (4+6)/2 = 5."
   ]
  },
  {
   "cell_type": "markdown",
   "metadata": {},
   "source": [
    "#### Box plot-"
   ]
  },
  {
   "cell_type": "markdown",
   "metadata": {},
   "source": [
    "* En estadística descriptiva, un diagrama de caja es un método para representar gráficamente grupos de datos numéricos a través de sus cuartiles. Los diagramas de caja también pueden tener líneas que se extienden verticalmente desde las cajas (bigotes) que indican la variabilidad fuera de los cuartiles superior e inferior, de ahí los términos diagrama de caja y patillas y diagrama de caja y patillas. Los valores atípicos se pueden trazar como puntos individuales.\n",
    "\n",
    "* Ver documento word"
   ]
  },
  {
   "cell_type": "code",
   "execution_count": 30,
   "metadata": {},
   "outputs": [
    {
     "data": {
      "text/plain": [
       "<Axes: title={'center': 'Home Team Goals'}, xlabel='Away Team Goals'>"
      ]
     },
     "execution_count": 30,
     "metadata": {},
     "output_type": "execute_result"
    },
    {
     "data": {
      "image/png": "[encoded data removed]",
      "text/plain": [
       "<Figure size 640x480 with 1 Axes>"
      ]
     },
     "metadata": {},
     "output_type": "display_data"
    }
   ],
   "source": [
    "matches.boxplot(column='Home Team Goals',by = 'Away Team Goals')"
   ]
  },
  {
   "cell_type": "code",
   "execution_count": 31,
   "metadata": {},
   "outputs": [
    {
     "name": "stdout",
     "output_type": "stream",
     "text": [
      "<class 'pandas.core.frame.DataFrame'>\n",
      "RangeIndex: 4572 entries, 0 to 4571\n",
      "Data columns (total 20 columns):\n",
      " #   Column                Non-Null Count  Dtype  \n",
      "---  ------                --------------  -----  \n",
      " 0   Year                  852 non-null    float64\n",
      " 1   Datetime              852 non-null    object \n",
      " 2   Stage                 852 non-null    object \n",
      " 3   Stadium               852 non-null    object \n",
      " 4   City                  852 non-null    object \n",
      " 5   Home Team Name        852 non-null    object \n",
      " 6   Home Team Goals       852 non-null    float64\n",
      " 7   Away Team Goals       852 non-null    float64\n",
      " 8   Away Team Name        852 non-null    object \n",
      " 9   Win conditions        852 non-null    object \n",
      " 10  Attendance            850 non-null    float64\n",
      " 11  Half-time Home Goals  852 non-null    float64\n",
      " 12  Half-time Away Goals  852 non-null    float64\n",
      " 13  Referee               852 non-null    object \n",
      " 14  Assistant 1           852 non-null    object \n",
      " 15  Assistant 2           852 non-null    object \n",
      " 16  RoundID               852 non-null    float64\n",
      " 17  MatchID               852 non-null    float64\n",
      " 18  Home Team Initials    852 non-null    object \n",
      " 19  Away Team Initials    852 non-null    object \n",
      "dtypes: float64(8), object(12)\n",
      "memory usage: 714.5+ KB\n"
     ]
    }
   ],
   "source": [
    "matches.info()"
   ]
  },
  {
   "cell_type": "code",
   "execution_count": 32,
   "metadata": {},
   "outputs": [
    {
     "data": {
      "image/png": "[encoded data removed]",
      "text/plain": [
       "<Figure size 1300x800 with 1 Axes>"
      ]
     },
     "metadata": {},
     "output_type": "display_data"
    }
   ],
   "source": [
    "matches[\"total_goals\"] = matches[\"Home Team Goals\"] + matches[\"Away Team Goals\"]\n",
    "\n",
    "plt.figure(figsize=(13,8))\n",
    "sns.boxplot(y=matches[\"total_goals\"],\n",
    "            x=matches[\"Year\"])\n",
    "plt.grid(True)\n",
    "plt.title(\"Total de goles por año\",color='b')\n",
    "plt.show()"
   ]
  },
  {
   "cell_type": "code",
   "execution_count": 33,
   "metadata": {},
   "outputs": [
    {
     "name": "stdout",
     "output_type": "stream",
     "text": [
      "Year                          32.0\n",
      "Home Team Goals                2.0\n",
      "Away Team Goals                2.0\n",
      "Attendance                 31374.5\n",
      "Half-time Home Goals           1.0\n",
      "Half-time Away Goals           1.0\n",
      "RoundID                   249460.0\n",
      "MatchID                 43948870.5\n",
      "total_goals                    3.0\n",
      "dtype: float64\n"
     ]
    }
   ],
   "source": [
    "Q1 = matches.quantile(0.25)\n",
    "Q3 = matches.quantile(0.75)\n",
    "IQR = Q3 - Q1\n",
    "print(IQR)"
   ]
  },
  {
   "cell_type": "code",
   "execution_count": 34,
   "metadata": {},
   "outputs": [],
   "source": [
    "matches = matches[~((matches < (Q1 - 1.5 * IQR)) | (matches > (Q3 + 1.5 * IQR))).any(axis=1)]"
   ]
  },
  {
   "cell_type": "code",
   "execution_count": 35,
   "metadata": {},
   "outputs": [
    {
     "data": {
      "text/plain": [
       "<Axes: title={'center': 'Home Team Goals'}, xlabel='Away Team Goals'>"
      ]
     },
     "execution_count": 35,
     "metadata": {},
     "output_type": "execute_result"
    },
    {
     "data": {
      "image/png": "[encoded data removed]",
      "text/plain": [
       "<Figure size 640x480 with 1 Axes>"
      ]
     },
     "metadata": {},
     "output_type": "display_data"
    }
   ],
   "source": [
    "matches.boxplot(column='Home Team Goals',by = 'Away Team Goals')"
   ]
  },
  {
   "cell_type": "code",
   "execution_count": 36,
   "metadata": {},
   "outputs": [
    {
     "data": {
      "image/png": "[encoded data removed]",
      "text/plain": [
       "<Figure size 1300x800 with 1 Axes>"
      ]
     },
     "metadata": {},
     "output_type": "display_data"
    }
   ],
   "source": [
    "matches[\"total_goals\"] = matches[\"Home Team Goals\"] + matches[\"Away Team Goals\"]\n",
    "\n",
    "plt.figure(figsize=(13,8))\n",
    "sns.boxplot(y=matches[\"total_goals\"],\n",
    "            x=matches[\"Year\"])\n",
    "plt.grid(True)\n",
    "plt.title(\"Total de goles por juego por año\",color='b')\n",
    "plt.show()"
   ]
  },
  {
   "cell_type": "markdown",
   "metadata": {},
   "source": [
    "* Here we can see few outliers are removed"
   ]
  },
  {
   "cell_type": "markdown",
   "metadata": {},
   "source": [
    "<span style=\"font-family: Arial; font-weight:bold;font-size:2em;color:#0ab6fa\">COMPARACIÓN DE DOS HERRAMIENTAS DE VISUALIZACIÓN DE DATOS: MATPLOTLIB VS SEABORN"
   ]
  },
  {
   "cell_type": "markdown",
   "metadata": {},
   "source": [
    "<span style=\"font-family: Arial; font-weight:bold;font-size:1em;color:#0ab6fa\">Funcionalidad:"
   ]
  },
  {
   "cell_type": "markdown",
   "metadata": {},
   "source": [
    "**Matplotlib:** Matplotlib se implementa principalmente para el trazado básico. La visualización que utiliza Matplotlib generalmente consta de barras, tartas, líneas, diagramas de dispersión, etc.\n",
    "\n",
    "**Seaborn:** Seaborn, por otro lado, proporciona una variedad de patrones de visualización. Utiliza menos sintaxis y tiene temas predeterminados fácilmente interesantes. Se especializa en la visualización de estadísticas y se usa si uno tiene que resumir datos en visualizaciones y también mostrar la distribución en los datos."
   ]
  },
  {
   "cell_type": "markdown",
   "metadata": {},
   "source": [
    "<span style=\"font-family: Arial; font-weight:bold;font-size:1em;color:#0ab6fa\">Manejar múltiples figuras"
   ]
  },
  {
   "cell_type": "markdown",
   "metadata": {},
   "source": [
    "**Matplotlib:** Matplotlib se pueden abrir varias figuras, pero deben cerrarse explícitamente. plt.close() solo cierra la figura actual. plt.close('all') los cerraría a todos.\n",
    "\n",
    "**Seaborn:** Seaborn automatiza la creación de múltiples figuras. Esto a veces conduce a problemas de OOM (memoria insuficiente out of memory)."
   ]
  },
  {
   "cell_type": "markdown",
   "metadata": {},
   "source": [
    "<span style=\"font-family: Arial; font-weight:bold;font-size:1em;color:#0ab6fa\">Visualización:"
   ]
  },
  {
   "cell_type": "markdown",
   "metadata": {},
   "source": [
    "**Matplotlib:** Matplotlib es un paquete de gráficos para la visualización de datos en Python. Está bien integrado con NumPy y Pandas. El módulo pyplot refleja fielmente los comandos de trazado de MATLAB. Por lo tanto, los usuarios de MATLAB pueden pasar fácilmente al trazado con Python.\n",
    "\n",
    "**Seaborn:** Seaborn está más integrado para trabajar con marcos de datos de Pandas. Amplía la biblioteca de Matplotlib para crear hermosos gráficos con Python utilizando un conjunto de métodos más directos."
   ]
  },
  {
   "cell_type": "markdown",
   "metadata": {},
   "source": [
    "<span style=\"font-family: Arial; font-weight:bold;font-size:1em;color:#0ab6fa\">Data frames y Arrays:"
   ]
  },
  {
   "cell_type": "markdown",
   "metadata": {},
   "source": [
    "**Matplotlib:** Matplotlib funciona con marcos de datos y matrices. Tiene diferentes API para trazar. Las llamadas plot() sin parámetros son suficientes, sin tener que administrar los parámetros.\n",
    "\n",
    "**Seaborn:** Seaborn funciona con el conjunto de datos como un todo y es mucho más intuitivo que Matplotlib. Para Seaborn, replot() es la API de entrada con el parámetro 'tipo' para especificar el tipo de gráfico que podría ser de línea, de barra o muchos de los otros tipos. "
   ]
  },
  {
   "cell_type": "markdown",
   "metadata": {},
   "source": [
    "<span style=\"font-family: Arial; font-weight:bold;font-size:1em;color:#0ab6fa\">Flexibilidad:\n",
    "\n",
    "**Matplotlib:** Matplotlib es altamente personalizable y potente.\n",
    "\n",
    "**Seaborn:** Seaborn evita un montón de repeticiones al proporcionar temas predeterminados que se usan comúnmente.\n",
    "\n",
    "<span style=\"font-family: Arial; font-weight:bold;font-size:1em;color:#0ab6fa\">Casos de uso:\n",
    "    \n",
    "**Matplotlib:** Pandas usa Matplotlib. Está desarrollado completamente alrededor de Matplotlib.\n",
    "\n",
    "**Seaborn:** Seaborn es para casos de uso más específicos. Además, está desarrollado sobre Matplotlib. Está especialmente diseñado para el trazado estadístico."
   ]
  },
  {
   "cell_type": "markdown",
   "metadata": {},
   "source": [
    "<span style=\"font-family: Arial; font-weight:bold;font-size:2em;color:#0ab6fa\">Análisis univariable"
   ]
  },
  {
   "cell_type": "markdown",
   "metadata": {},
   "source": [
    "* El análisis univariante es la forma más sencilla de analizar datos.\n",
    "* \"Uni\" significa \"uno\", en otras palabras, sus datos tienen solo una variable.\n",
    "* No trata de causas o relaciones (a diferencia de la regresión) y su propósito principal es describir; toma datos, los resume y encuentra patrones en los datos."
   ]
  },
  {
   "cell_type": "code",
   "execution_count": 37,
   "metadata": {},
   "outputs": [
    {
     "data": {
      "text/plain": [
       "<Axes: xlabel='Year', ylabel='Density'>"
      ]
     },
     "execution_count": 37,
     "metadata": {},
     "output_type": "execute_result"
    },
    {
     "data": {
      "image/png": "[encoded data removed]",
      "text/plain": [
       "<Figure size 640x480 with 1 Axes>"
      ]
     },
     "metadata": {},
     "output_type": "display_data"
    }
   ],
   "source": [
    "sns.distplot(cups.Year)"
   ]
  },
  {
   "cell_type": "code",
   "execution_count": 38,
   "metadata": {},
   "outputs": [],
   "source": [
    "!jt -t monokai -T -N -kl"
   ]
  },
  {
   "cell_type": "code",
   "execution_count": null,
   "metadata": {},
   "outputs": [],
   "source": []
  },
  {
   "cell_type": "code",
   "execution_count": null,
   "metadata": {},
   "outputs": [],
   "source": []
  },
  {
   "cell_type": "code",
   "execution_count": null,
   "metadata": {},
   "outputs": [],
   "source": []
  }
 ],
 "metadata": {
  "kernelspec": {
   "display_name": "Python 3 (ipykernel)",
   "language": "python",
   "name": "python3"
  },
  "language_info": {
   "codemirror_mode": {
    "name": "ipython",
    "version": 3
   },
   "file_extension": ".py",
   "mimetype": "text/x-python",
   "name": "python",
   "nbconvert_exporter": "python",
   "pygments_lexer": "ipython3",
   "version": "3.10.9"
  }
 },
 "nbformat": 4,
 "nbformat_minor": 2
}
